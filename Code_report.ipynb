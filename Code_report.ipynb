{
 "cells": [
  {
   "cell_type": "markdown",
   "id": "a9054fe2",
   "metadata": {},
   "source": [
    "<center><b><font size=\"+3\">FAKE NEW DETECTION</font></b></center>"
   ]
  },
  {
   "cell_type": "markdown",
   "id": "5209da8d",
   "metadata": {},
   "source": [
    "<center>\n",
    "    <img src=\"https://miro.medium.com/max/3840/1*CQaCf35n3pReVZ02iYK0Xg.jpeg\" width=\"1600\" height=\"600\" alt=\"cognitiveclass.ai logo\"  />\n",
    "</center>"
   ]
  },
  {
   "cell_type": "markdown",
   "id": "eab588ce",
   "metadata": {
    "tags": []
   },
   "source": [
    "# Link web test"
   ]
  },
  {
   "cell_type": "markdown",
   "id": "ace2dac8",
   "metadata": {},
   "source": [
    "Link test được deploy trên nền tảng `streamlit` do thầy cô gợi ý. Link [tai đây](https://share.streamlit.io/lavdata/fake_new_detector/main/pr.py)"
   ]
  },
  {
   "cell_type": "markdown",
   "id": "5fe3e449",
   "metadata": {},
   "source": [
    "---"
   ]
  },
  {
   "cell_type": "markdown",
   "id": "2f7da2ac",
   "metadata": {},
   "source": [
    "# Thông tin thành viên và phân công nhiệm vụ"
   ]
  },
  {
   "cell_type": "markdown",
   "id": "3427ff42",
   "metadata": {},
   "source": [
    "|MSSV    | HO TEN        | NHIEM VU    |\n",
    "|:-------|:--------------|:-----------:|\n",
    "|...| Phạm Thành Đạt| Tiền xử lí, EDA. Hỗ trợ, nhận xét phần 3, 4       |\n",
    "|...| Trần Bảo Tín  | Tiền xử lí, EDA. Hỗ trợ, nhận xét phần 3, 4   |\n",
    "|19120724| Lê Anh Vũ     | Mô hình hóa, Deploy model. Hỗ trợ, nhận xét phần 1, 2 |\n",
    "|...| Nguyễn Phú Thụ| Mô hình hóa, Deploy model. Hỗ trợ, nhận xét phần 1, 2|"
   ]
  },
  {
   "cell_type": "markdown",
   "id": "c35e3b8d",
   "metadata": {
    "tags": []
   },
   "source": [
    "# Import các thư viện cần thiết"
   ]
  },
  {
   "cell_type": "code",
   "execution_count": 5,
   "id": "cb8f8536",
   "metadata": {},
   "outputs": [],
   "source": [
    "import string\n",
    "import numpy as np\n",
    "import pandas as pd\n",
    "import seaborn as sns\n",
    "import matplotlib.pyplot as plt\n",
    "from joblib import dump, load\n",
    "from sklearn.metrics import accuracy_score\n",
    "from sklearn.tree import DecisionTreeClassifier\n",
    "from sklearn.neural_network import MLPClassifier\n",
    "from sklearn.model_selection import cross_val_score\n",
    "from sklearn.model_selection import train_test_split\n",
    "from sklearn.linear_model import LogisticRegressionCV\n",
    "from sklearn.feature_extraction.text import TfidfVectorizer\n",
    "\n",
    "# Thư viện ngoài\n",
    "from pyvi import ViTokenizer"
   ]
  },
  {
   "cell_type": "markdown",
   "id": "4b033cc2",
   "metadata": {},
   "source": [
    "`pyvi` là thư viện ngoài. Em dùng để `Tokenizer` văn bản tiếng việt. Thầy cô chỉ cần cài bằng cách `pip install pyvi`. Thông tin chi tiết [tại đây](https://towardsdatascience.com/introduction-to-pyvi-python-vietnamese-nlp-toolkit-ff5124983dc2)"
   ]
  },
  {
   "cell_type": "markdown",
   "id": "0b738e7d",
   "metadata": {},
   "source": [
    "# Nguồn dữ liệu"
   ]
  },
  {
   "cell_type": "markdown",
   "id": "e77c1bfb",
   "metadata": {},
   "source": [
    "File `vn_news_223_tdlfr.csv` được lấy từ [VNFD Dataset](https://github.com/thanhhocse96/vfnd-vietnamese-fake-news-datasets/blob/master/CSV/vn_news_223_tdlfr.csv)\n",
    "- Tập dữ liệu 223 record bản tin tiếng Việt, gồm 2 nhãn: 1 (tin giả) và 0 (tin thật) \n",
    "- Mô tả dữ liệu: được lấy từ [VNFD](https://github.com/thanhhocse96/vfnd-vietnamese-fake-news-datasets/tree/master/CSV)\n",
    "\n",
    "File `vietnamese-stopwords.txt` chứa các từ `stopword` được lấy từ [VNStopword](https://github.com/stopwords/vietnamese-stopwords/blob/master/vietnamese-stopwords.txt)"
   ]
  },
  {
   "cell_type": "markdown",
   "id": "9d4bdf62",
   "metadata": {},
   "source": [
    "# Tiền xử lý văn bản tiếng Việt"
   ]
  },
  {
   "cell_type": "markdown",
   "id": "876ab216",
   "metadata": {},
   "source": [
    "Dữ liệu được lấy từ file `vn_news_223_tdlfr.csv`"
   ]
  },
  {
   "cell_type": "code",
   "execution_count": 6,
   "id": "1f2c7e2d",
   "metadata": {},
   "outputs": [
    {
     "data": {
      "text/html": [
       "<div>\n",
       "<style scoped>\n",
       "    .dataframe tbody tr th:only-of-type {\n",
       "        vertical-align: middle;\n",
       "    }\n",
       "\n",
       "    .dataframe tbody tr th {\n",
       "        vertical-align: top;\n",
       "    }\n",
       "\n",
       "    .dataframe thead th {\n",
       "        text-align: right;\n",
       "    }\n",
       "</style>\n",
       "<table border=\"1\" class=\"dataframe\">\n",
       "  <thead>\n",
       "    <tr style=\"text-align: right;\">\n",
       "      <th></th>\n",
       "      <th>text</th>\n",
       "      <th>domain</th>\n",
       "      <th>label</th>\n",
       "    </tr>\n",
       "  </thead>\n",
       "  <tbody>\n",
       "    <tr>\n",
       "      <th>196</th>\n",
       "      <td>Trung Quốc hủy nhiều chuyến bay tới Thường Châ...</td>\n",
       "      <td>vnexpress.net</td>\n",
       "      <td>0</td>\n",
       "    </tr>\n",
       "    <tr>\n",
       "      <th>67</th>\n",
       "      <td>Mặc đồ không khác gì vải màn lên bar đú đởn, M...</td>\n",
       "      <td>tinvn.info</td>\n",
       "      <td>1</td>\n",
       "    </tr>\n",
       "    <tr>\n",
       "      <th>81</th>\n",
       "      <td>Nếu thấy thứ này thò lên ngoài vườn nhà, đừng ...</td>\n",
       "      <td>tinvn.info</td>\n",
       "      <td>1</td>\n",
       "    </tr>\n",
       "    <tr>\n",
       "      <th>121</th>\n",
       "      <td>Người đàn ông chết khô ở máy dập có thể do đột...</td>\n",
       "      <td>tuoitre.vn</td>\n",
       "      <td>0</td>\n",
       "    </tr>\n",
       "    <tr>\n",
       "      <th>141</th>\n",
       "      <td>Ôtô 'chôn chân' vì bị chặn đầu bởi trăm xe máy...</td>\n",
       "      <td>vnexpress.net</td>\n",
       "      <td>0</td>\n",
       "    </tr>\n",
       "  </tbody>\n",
       "</table>\n",
       "</div>"
      ],
      "text/plain": [
       "                                                  text         domain  label\n",
       "196  Trung Quốc hủy nhiều chuyến bay tới Thường Châ...  vnexpress.net      0\n",
       "67   Mặc đồ không khác gì vải màn lên bar đú đởn, M...     tinvn.info      1\n",
       "81   Nếu thấy thứ này thò lên ngoài vườn nhà, đừng ...     tinvn.info      1\n",
       "121  Người đàn ông chết khô ở máy dập có thể do đột...     tuoitre.vn      0\n",
       "141  Ôtô 'chôn chân' vì bị chặn đầu bởi trăm xe máy...  vnexpress.net      0"
      ]
     },
     "execution_count": 6,
     "metadata": {},
     "output_type": "execute_result"
    }
   ],
   "source": [
    "news_df = pd.read_csv('vn_news_223_tdlfr.csv', encoding='utf-8')\n",
    "news_df.sample(5)"
   ]
  },
  {
   "cell_type": "markdown",
   "id": "c6513865",
   "metadata": {
    "tags": []
   },
   "source": [
    "## Dữ liệu có bị trùng lặp hay không? Nếu có thì loại bỏ chúng"
   ]
  },
  {
   "cell_type": "code",
   "execution_count": 7,
   "id": "6bc867df",
   "metadata": {},
   "outputs": [
    {
     "data": {
      "text/plain": [
       "1"
      ]
     },
     "execution_count": 7,
     "metadata": {},
     "output_type": "execute_result"
    }
   ],
   "source": [
    "len(news_df) - len(news_df.drop_duplicates())"
   ]
  },
  {
   "cell_type": "markdown",
   "id": "2064d4d9",
   "metadata": {},
   "source": [
    "Vậy dữ liệu có 1 dòng bị trùng. Ta sẽ tiến hành loại bỏ nó."
   ]
  },
  {
   "cell_type": "code",
   "execution_count": 8,
   "id": "5022f7eb",
   "metadata": {},
   "outputs": [
    {
     "data": {
      "text/plain": [
       "(222, 3)"
      ]
     },
     "execution_count": 8,
     "metadata": {},
     "output_type": "execute_result"
    }
   ],
   "source": [
    "news_df = news_df.drop_duplicates()\n",
    "news_df.shape"
   ]
  },
  {
   "cell_type": "code",
   "execution_count": 9,
   "id": "16428c93",
   "metadata": {},
   "outputs": [],
   "source": [
    "assert len(news_df) == len(news_df.drop_duplicates())"
   ]
  },
  {
   "cell_type": "markdown",
   "id": "a0cbd6e6",
   "metadata": {
    "tags": []
   },
   "source": [
    "## Tiền xử lí cơ bản"
   ]
  },
  {
   "cell_type": "markdown",
   "id": "7aa98be6",
   "metadata": {},
   "source": [
    "### Đọc file `vietnamese-stopwords.txt` để lưu 1 set các từ stopword"
   ]
  },
  {
   "cell_type": "code",
   "execution_count": 10,
   "id": "b173dc42",
   "metadata": {},
   "outputs": [],
   "source": [
    "stopword = open('./vietnamese-stopwords.txt', 'r', encoding='utf-8')\n",
    "stopword = set([i.rstrip() for i in stopword.readlines()])"
   ]
  },
  {
   "cell_type": "markdown",
   "id": "97220871",
   "metadata": {},
   "source": [
    "### Hàm loại bỏ các dấu câu, lowercase và loại stopword"
   ]
  },
  {
   "cell_type": "markdown",
   "id": "6c4a3512",
   "metadata": {},
   "source": [
    "- Trước tiên, em sẽ định nghĩa các kí hiệu `noise`.\n",
    "- Sau đó thay thế khoảng trắng giữa các stopword bằng dấu `_`. Lý do: vì khi tokenize chữ thì các cụm từ có dấu`_`  nối giữa các từ.\n",
    "- Tiếp theo, là các bước loại bỏ các kí hiệu `noise`, `tokenizer`,`lowercase` và loại bỏ `stopword` trong phần text\n",
    "- Cuối cùng, đó là thêm phần tên miền vào list `clean_test`"
   ]
  },
  {
   "cell_type": "code",
   "execution_count": 11,
   "id": "9620337a",
   "metadata": {},
   "outputs": [
    {
     "data": {
      "text/plain": [
       "'!\"#$%&\\'()*+,-./:;<=>?@[\\\\]^_`{|}~\\n“”‘’'"
      ]
     },
     "execution_count": 11,
     "metadata": {},
     "output_type": "execute_result"
    }
   ],
   "source": [
    "puncs = string.punctuation + '\\n“”‘’'\n",
    "puncs"
   ]
  },
  {
   "cell_type": "code",
   "execution_count": 12,
   "id": "6c194be5",
   "metadata": {},
   "outputs": [
    {
     "data": {
      "text/plain": [
       "['buổi_ngày', 'ào_vào', 'tên_tự', 'có_khi', 'nào_phải']"
      ]
     },
     "execution_count": 12,
     "metadata": {},
     "output_type": "execute_result"
    }
   ],
   "source": [
    "stopword = pd.Series(list(stopword)).str.replace(' ', '_').to_list()\n",
    "stopword[:5]"
   ]
  },
  {
   "cell_type": "code",
   "execution_count": 13,
   "id": "8cfbdaef",
   "metadata": {},
   "outputs": [
    {
     "data": {
      "text/plain": [
       "1      [thủ_tướng, nhật, cúi, đầu, xin_lỗi, tinh_thần...\n",
       "93     [liên_tục, con_trai, báo_mộng, mẹ, kinh_hãi, c...\n",
       "209    [khởi_tố, cặp, nữ, quái, chuyên, cung_cấp, ma_...\n",
       "126    [tuyến, buýt, 5, tân_sơn, đi, vũng_tàu, tp, hc...\n",
       "55     [phát_hoảng, tiếng, rít, đinh_tai, đêm, chạy, ...\n",
       "Name: text, dtype: object"
      ]
     },
     "execution_count": 13,
     "metadata": {},
     "output_type": "execute_result"
    }
   ],
   "source": [
    "def remove_stopword(x):\n",
    "    return [i.rstrip('_') for i in x if i not in stopword and i not in [',', '']]\n",
    "\n",
    "\n",
    "clean_text = news_df['text'].replace(f'[{puncs}]', ',', regex=True).\\\n",
    "    apply(ViTokenizer.tokenize).str.lower().\\\n",
    "    str.split().apply(remove_stopword)\n",
    "\n",
    "clean_text.sample(5)"
   ]
  },
  {
   "cell_type": "code",
   "execution_count": 14,
   "id": "7379bdc3",
   "metadata": {},
   "outputs": [
    {
     "data": {
      "text/html": [
       "<div>\n",
       "<style scoped>\n",
       "    .dataframe tbody tr th:only-of-type {\n",
       "        vertical-align: middle;\n",
       "    }\n",
       "\n",
       "    .dataframe tbody tr th {\n",
       "        vertical-align: top;\n",
       "    }\n",
       "\n",
       "    .dataframe thead th {\n",
       "        text-align: right;\n",
       "    }\n",
       "</style>\n",
       "<table border=\"1\" class=\"dataframe\">\n",
       "  <thead>\n",
       "    <tr style=\"text-align: right;\">\n",
       "      <th></th>\n",
       "      <th>text</th>\n",
       "      <th>domain</th>\n",
       "      <th>label</th>\n",
       "      <th>clean_text</th>\n",
       "    </tr>\n",
       "  </thead>\n",
       "  <tbody>\n",
       "    <tr>\n",
       "      <th>0</th>\n",
       "      <td>Thủ tướng Abe cúi đầu xin lỗi vì hành động phi...</td>\n",
       "      <td>binhluan.biz</td>\n",
       "      <td>1</td>\n",
       "      <td>thủ_tướng abe cúi đầu xin_lỗi hành_động phi th...</td>\n",
       "    </tr>\n",
       "    <tr>\n",
       "      <th>1</th>\n",
       "      <td>Thủ tướng Nhật cúi đầu xin lỗi vì tinh thần ph...</td>\n",
       "      <td>www.ipick.vn</td>\n",
       "      <td>1</td>\n",
       "      <td>thủ_tướng nhật cúi đầu xin_lỗi tinh_thần phi t...</td>\n",
       "    </tr>\n",
       "    <tr>\n",
       "      <th>2</th>\n",
       "      <td>Choáng! Cơ trưởng đeo khăn quàng quẩy banh nóc...</td>\n",
       "      <td>tintucqpvn.net</td>\n",
       "      <td>1</td>\n",
       "      <td>choáng cơ_trưởng đeo khăn_quàng quẩy banh sân_...</td>\n",
       "    </tr>\n",
       "    <tr>\n",
       "      <th>3</th>\n",
       "      <td>Chưa bao giờ nhạc Kpop lại dễ hát đến thế!!!\\n...</td>\n",
       "      <td>tintucqpvn.net</td>\n",
       "      <td>1</td>\n",
       "      <td>nhạc kpop hát giáo_sư nguyễn_lân dũng thành_đạ...</td>\n",
       "    </tr>\n",
       "    <tr>\n",
       "      <th>4</th>\n",
       "      <td>Đại học Hutech sẽ áp dụng cải cách \"Tiếq Việt\"...</td>\n",
       "      <td>www.gioitreviet.net</td>\n",
       "      <td>1</td>\n",
       "      <td>đại_học hutech áp_dụng cải_cách tiếq việt năm_...</td>\n",
       "    </tr>\n",
       "  </tbody>\n",
       "</table>\n",
       "</div>"
      ],
      "text/plain": [
       "                                                text               domain  \\\n",
       "0  Thủ tướng Abe cúi đầu xin lỗi vì hành động phi...         binhluan.biz   \n",
       "1  Thủ tướng Nhật cúi đầu xin lỗi vì tinh thần ph...         www.ipick.vn   \n",
       "2  Choáng! Cơ trưởng đeo khăn quàng quẩy banh nóc...       tintucqpvn.net   \n",
       "3  Chưa bao giờ nhạc Kpop lại dễ hát đến thế!!!\\n...       tintucqpvn.net   \n",
       "4  Đại học Hutech sẽ áp dụng cải cách \"Tiếq Việt\"...  www.gioitreviet.net   \n",
       "\n",
       "   label                                         clean_text  \n",
       "0      1  thủ_tướng abe cúi đầu xin_lỗi hành_động phi th...  \n",
       "1      1  thủ_tướng nhật cúi đầu xin_lỗi tinh_thần phi t...  \n",
       "2      1  choáng cơ_trưởng đeo khăn_quàng quẩy banh sân_...  \n",
       "3      1  nhạc kpop hát giáo_sư nguyễn_lân dũng thành_đạ...  \n",
       "4      1  đại_học hutech áp_dụng cải_cách tiếq việt năm_...  "
      ]
     },
     "execution_count": 14,
     "metadata": {},
     "output_type": "execute_result"
    }
   ],
   "source": [
    "news_df['clean_text'] = clean_text\n",
    "news_df['clean_text'] = news_df.apply(lambda x: ' '.join(\n",
    "    x['clean_text']) + ' ' + x['domain'], axis=1)\n",
    "\n",
    "news_df.head(5)"
   ]
  },
  {
   "cell_type": "markdown",
   "id": "53f50829",
   "metadata": {},
   "source": [
    "# Khám phá dữ liệu"
   ]
  },
  {
   "cell_type": "markdown",
   "id": "778ce8a6",
   "metadata": {
    "tags": []
   },
   "source": [
    "## Dữ liệu có bao nhiêu dòng cột?"
   ]
  },
  {
   "cell_type": "code",
   "execution_count": 15,
   "id": "79b8d181",
   "metadata": {},
   "outputs": [
    {
     "data": {
      "text/plain": [
       "(222, 4)"
      ]
     },
     "execution_count": 15,
     "metadata": {},
     "output_type": "execute_result"
    }
   ],
   "source": [
    "news_df.shape"
   ]
  },
  {
   "cell_type": "code",
   "execution_count": 16,
   "id": "e47d6a1f",
   "metadata": {},
   "outputs": [
    {
     "name": "stdout",
     "output_type": "stream",
     "text": [
      "Vậy dữ liệu có 222 dòng và 4 cột.\n"
     ]
    }
   ],
   "source": [
    "print(f\"Vậy dữ liệu có {news_df.shape[0]} dòng và {news_df.shape[1]} cột.\")"
   ]
  },
  {
   "cell_type": "markdown",
   "id": "c8a0513a",
   "metadata": {},
   "source": [
    "## Dữ liệu có bị thiếu hay không?"
   ]
  },
  {
   "cell_type": "code",
   "execution_count": 17,
   "id": "bd665799",
   "metadata": {},
   "outputs": [
    {
     "data": {
      "text/plain": [
       "text          0\n",
       "domain        0\n",
       "label         0\n",
       "clean_text    0\n",
       "dtype: int64"
      ]
     },
     "execution_count": 17,
     "metadata": {},
     "output_type": "execute_result"
    }
   ],
   "source": [
    "news_df.isnull().sum()"
   ]
  },
  {
   "cell_type": "markdown",
   "id": "b6b949ac",
   "metadata": {},
   "source": [
    "## Các kiểu dữ liệu của các cột đã phù hợp hay chưa?"
   ]
  },
  {
   "cell_type": "code",
   "execution_count": 18,
   "id": "b6b7116d",
   "metadata": {},
   "outputs": [
    {
     "data": {
      "text/plain": [
       "text          object\n",
       "domain        object\n",
       "label          int64\n",
       "clean_text    object\n",
       "dtype: object"
      ]
     },
     "execution_count": 18,
     "metadata": {},
     "output_type": "execute_result"
    }
   ],
   "source": [
    "news_df.dtypes"
   ]
  },
  {
   "cell_type": "markdown",
   "id": "0ece524c",
   "metadata": {},
   "source": [
    "*Nhìn qua ta có thể thấy các cột dữ liệu đã có kiểu dữ liệu thích hợp. Tuy nhiên để chắc chắn hơn ta cần kiểm tra cột dữ liệu ở các cột `text`, `domain`, vì kiểu dữ liệu object có thể có nhiều kiểu dữ liệu khác nhau trong đó*"
   ]
  },
  {
   "cell_type": "code",
   "execution_count": 19,
   "id": "628dc84f",
   "metadata": {},
   "outputs": [],
   "source": [
    "def open_object_dtype(s):\n",
    "    dtypes = set()\n",
    "    s.apply(lambda x: dtypes.add(type(x)))\n",
    "    return dtypes"
   ]
  },
  {
   "cell_type": "code",
   "execution_count": 20,
   "id": "31478632",
   "metadata": {},
   "outputs": [],
   "source": [
    "# TEST\n",
    "assert open_object_dtype(news_df['text']) == {str}\n",
    "assert open_object_dtype(news_df['domain']) == {str}\n",
    "assert open_object_dtype(news_df['clean_text']) == {str}"
   ]
  },
  {
   "cell_type": "markdown",
   "id": "d9e4bf45",
   "metadata": {},
   "source": [
    "*Vậy là các cột dữ liệu thuộc kiểu object đều có dạng chuỗi, thỏa với mục đích cần tìm*"
   ]
  },
  {
   "cell_type": "markdown",
   "id": "be13e200",
   "metadata": {},
   "source": [
    "## Các giá trị trong cột dữ liệu `label` có sự phân bố như thế nào?"
   ]
  },
  {
   "cell_type": "code",
   "execution_count": 21,
   "id": "bba13abb",
   "metadata": {},
   "outputs": [
    {
     "data": {
      "text/plain": [
       "<AxesSubplot:>"
      ]
     },
     "execution_count": 21,
     "metadata": {},
     "output_type": "execute_result"
    },
    {
     "data": {
      "image/png": "[encoded data removed]",
      "text/plain": [
       "<Figure size 432x288 with 1 Axes>"
      ]
     },
     "metadata": {
      "needs_background": "light"
     },
     "output_type": "display_data"
    }
   ],
   "source": [
    "news_df['label'].value_counts().rename(\n",
    "    index={0: 'False', 1: 'True'}).plot.barh()"
   ]
  },
  {
   "cell_type": "markdown",
   "id": "11426bdd",
   "metadata": {},
   "source": [
    "**Nhận xét:** Sự phân bố 2 giá trị FAKE (tin giả) và REAL (tin thật) chênh lệch không nhiều khi dữ liệu tin thật chiếm hơn 120 tin trong khi đó ở tin giả là 100 tin  "
   ]
  },
  {
   "cell_type": "markdown",
   "id": "d4de08e0",
   "metadata": {},
   "source": [
    "## Sự phân bố của cột dữ liệu `domain`"
   ]
  },
  {
   "cell_type": "code",
   "execution_count": 22,
   "id": "5cf279a1",
   "metadata": {},
   "outputs": [
    {
     "data": {
      "text/plain": [
       "Text(0, 0.5, 'Number of occurences')"
      ]
     },
     "execution_count": 22,
     "metadata": {},
     "output_type": "execute_result"
    },
    {
     "data": {
      "image/png": "[encoded data removed]",
      "text/plain": [
       "<Figure size 720x360 with 1 Axes>"
      ]
     },
     "metadata": {
      "needs_background": "light"
     },
     "output_type": "display_data"
    }
   ],
   "source": [
    "top_ten_domain = news_df['domain'].value_counts()[:10]\n",
    "\n",
    "plt.figure(figsize=(10, 5))\n",
    "sns.barplot(x=top_ten_domain.index, y=top_ten_domain.values, alpha=0.6)\n",
    "plt.title('Top 10 domains')\n",
    "plt.xlabel('Domain', fontsize=12)\n",
    "plt.xticks(rotation=45)\n",
    "plt.ylabel('Number of occurences', fontsize=12)"
   ]
  },
  {
   "cell_type": "markdown",
   "id": "22b3832c",
   "metadata": {},
   "source": [
    "**Nhận xét:** Trong top 10 domain được sử dụng nhiều nhất để đăng tin thì ta thấy có sự chênh lệch rõ rệt khi 2 domain `vnexpress.net` và `tinvn.info` chiếm số lượng vượt trội so với phần còn lại  "
   ]
  },
  {
   "cell_type": "markdown",
   "id": "5c1eb2f9",
   "metadata": {},
   "source": [
    "## Khám phá cột dữ liệu `text`"
   ]
  },
  {
   "cell_type": "markdown",
   "id": "934525bd",
   "metadata": {},
   "source": [
    "- Thông tin thống kê của văn bản"
   ]
  },
  {
   "cell_type": "code",
   "execution_count": 23,
   "id": "038090e5",
   "metadata": {},
   "outputs": [
    {
     "data": {
      "text/plain": [
       "min                 309.0\n",
       "lower_quantile     1280.0\n",
       "median             1988.0\n",
       "upper_quantile     3285.0\n",
       "max               10019.0\n",
       "Name: text, dtype: float64"
      ]
     },
     "execution_count": 23,
     "metadata": {},
     "output_type": "execute_result"
    }
   ],
   "source": [
    "# Lấy các thông tin thống kê của văn bản\n",
    "text_col = news_df['text'].apply(lambda x: len(x))\n",
    "\n",
    "\n",
    "def lower_quantile(df):\n",
    "    return df.quantile(0.25).round()\n",
    "\n",
    "\n",
    "def median(df):\n",
    "    return df.quantile(0.5).round()\n",
    "\n",
    "\n",
    "def upper_quantile(df):\n",
    "    return df.quantile(0.75).round()\n",
    "\n",
    "\n",
    "text_col.agg(['min', lower_quantile, median, upper_quantile, 'max'])"
   ]
  },
  {
   "cell_type": "markdown",
   "id": "2d13b556",
   "metadata": {},
   "source": [
    "# Mô hình hóa"
   ]
  },
  {
   "cell_type": "markdown",
   "id": "97dbde33",
   "metadata": {},
   "source": [
    "## Tokenize văn bản"
   ]
  },
  {
   "cell_type": "code",
   "execution_count": 24,
   "id": "dea45997",
   "metadata": {},
   "outputs": [],
   "source": [
    "train_data = TfidfVectorizer(lowercase=False).fit_transform(news_df['clean_text'])"
   ]
  },
  {
   "cell_type": "markdown",
   "id": "cd771ecd",
   "metadata": {},
   "source": [
    "## Chia dữ liệu"
   ]
  },
  {
   "cell_type": "markdown",
   "id": "b418d53e",
   "metadata": {},
   "source": [
    "Ở phần này, nhóm em quyết định chia tập dữ liệu thành 3 phần:\n",
    "- Phần train chiếm 75%\n",
    "- Phần valid data chiếm 15%\n",
    "- Phần test chiếm 10%"
   ]
  },
  {
   "cell_type": "code",
   "execution_count": 25,
   "id": "76df9d5a",
   "metadata": {},
   "outputs": [],
   "source": [
    "train_ratio = 0.75\n",
    "validation_ratio = 0.15\n",
    "test_ratio = 0.10\n",
    "\n",
    "x_train, x_test, y_train, y_test = train_test_split(\n",
    "    train_data, news_df.label, test_size=1 - train_ratio, random_state=42)\n",
    "\n",
    "x_val, x_test, y_val, y_test = train_test_split(\n",
    "    x_test, y_test, test_size=test_ratio/(test_ratio + validation_ratio), random_state=42)"
   ]
  },
  {
   "cell_type": "markdown",
   "id": "7654657c",
   "metadata": {},
   "source": [
    "## Mô hình tuyến tính"
   ]
  },
  {
   "cell_type": "markdown",
   "id": "106c4a3f",
   "metadata": {},
   "source": [
    "Với mô hình tuyến tính, em sử dụng bộ phân lớp `LogisticRegressionCV`"
   ]
  },
  {
   "cell_type": "markdown",
   "id": "b8441e3d",
   "metadata": {},
   "source": [
    "### Tìm mô hình tốt nhất"
   ]
  },
  {
   "cell_type": "code",
   "execution_count": 26,
   "id": "249c142b",
   "metadata": {},
   "outputs": [],
   "source": [
    "train_accs = []\n",
    "val_accs = []\n",
    "cvs = [5, 6, 7, 8, 9, 10]\n",
    "solvers = ['newton-cg', 'lbfgs', 'liblinear', 'sag', 'saga']\n",
    "best_val_acc = 0\n",
    "best_cv = None\n",
    "best_solver = None\n",
    "\n",
    "for cv in cvs:\n",
    "    for solver in solvers:\n",
    "        lg_re = LogisticRegressionCV(\n",
    "            Cs=20, cv=cv, solver=solver, max_iter=10000).fit(x_train, y_train)\n",
    "        val_accs.append(accuracy_score(lg_re.predict(x_val), y_val))\n",
    "        train_accs.append(accuracy_score(lg_re.predict(x_test), y_test))\n",
    "\n",
    "best_val_acc = max(val_accs)\n",
    "index_best = val_accs.index(best_val_acc)\n",
    "best_cv = cvs[index_best // len(solvers)]\n",
    "best_solver = solvers[index_best % len(solvers)]"
   ]
  },
  {
   "cell_type": "code",
   "execution_count": 27,
   "id": "c4858908",
   "metadata": {},
   "outputs": [
    {
     "data": {
      "text/plain": [
       "LogisticRegressionCV(Cs=20, cv=5, max_iter=10000, solver='newton-cg')"
      ]
     },
     "execution_count": 27,
     "metadata": {},
     "output_type": "execute_result"
    }
   ],
   "source": [
    "lg_re.set_params(cv=best_cv, solver=best_solver).fit(x_train, y_train)"
   ]
  },
  {
   "cell_type": "code",
   "execution_count": 28,
   "id": "b62ccd13",
   "metadata": {},
   "outputs": [
    {
     "name": "stdout",
     "output_type": "stream",
     "text": [
      "Vậy các tham số tốt nhất với mô hình này tìm được là Cs=20, cv=5, max_iter=1000, solver=newton-cg\n"
     ]
    }
   ],
   "source": [
    "print(f\"Vậy các tham số tốt nhất với mô hình này tìm được là Cs=20, cv={best_cv}, max_iter=1000, solver={best_solver}\")"
   ]
  },
  {
   "cell_type": "code",
   "execution_count": 29,
   "id": "d86d669f",
   "metadata": {},
   "outputs": [
    {
     "data": {
      "text/plain": [
       "0.9565217391304348"
      ]
     },
     "execution_count": 29,
     "metadata": {},
     "output_type": "execute_result"
    }
   ],
   "source": [
    "accuracy_score(y_true=y_test, y_pred=lg_re.predict(x_test))"
   ]
  },
  {
   "cell_type": "markdown",
   "id": "1de88e87",
   "metadata": {
    "tags": []
   },
   "source": [
    "**Nhận xét:** Tỉ lệ khớp với tập test khá cao."
   ]
  },
  {
   "cell_type": "markdown",
   "id": "652b6fb3",
   "metadata": {},
   "source": [
    "### Trực quan hóa kết quả"
   ]
  },
  {
   "cell_type": "code",
   "execution_count": 30,
   "id": "052d3704",
   "metadata": {},
   "outputs": [
    {
     "data": {
      "text/plain": [
       "Text(386.9318181818181, 0.5, 'cv')"
      ]
     },
     "execution_count": 30,
     "metadata": {},
     "output_type": "execute_result"
    },
    {
     "data": {
      "image/png": "[encoded data removed]",
      "text/plain": [
       "<Figure size 720x360 with 2 Axes>"
      ]
     },
     "metadata": {
      "needs_background": "light"
     },
     "output_type": "display_data"
    }
   ],
   "source": [
    "# Trực quan hóa kết quả\n",
    "train_accs_df = pd.DataFrame(data=np.array(train_accs).reshape(len(cvs), -1),\n",
    "                             index=cvs, columns=solvers)\n",
    "val_accs_df = pd.DataFrame(\n",
    "    data=np.array(val_accs).reshape(len(cvs), -1),\n",
    "    index=cvs, columns=solvers)\n",
    "min_err = min(min(train_accs), min(val_accs))\n",
    "max_err = max(max(train_accs), max(val_accs))\n",
    "plt.figure(figsize=(10, 5))\n",
    "plt.subplot(1, 2, 1)\n",
    "sns.heatmap(train_accs_df, vmin=min_err, vmax=max_err, square=True,\n",
    "            annot=True, cbar=False, fmt='.2f', cmap='Reds')\n",
    "plt.title('train accuracies')\n",
    "plt.xlabel('solver')\n",
    "plt.ylabel('cv')\n",
    "plt.subplot(1, 2, 2)\n",
    "sns.heatmap(val_accs_df, vmin=min_err, vmax=max_err, square=True,\n",
    "            annot=True, cbar=False, fmt='.2f', cmap='Reds')\n",
    "plt.title('validation accuracies')\n",
    "plt.xlabel('solver')\n",
    "plt.ylabel('cv')"
   ]
  },
  {
   "cell_type": "markdown",
   "id": "261bf11f",
   "metadata": {},
   "source": [
    "**Nhận xét:** tỉ lệ tập `train` và tập `valid` khá tương đồng nhau. Số `k-fold cross validation` càng nhiều, tỉ lệ chính xác càng giảm, kéo theo giảm bớt hiện tượng overfitting"
   ]
  },
  {
   "cell_type": "markdown",
   "id": "a2719193-2c92-45da-a82d-e77846e51497",
   "metadata": {},
   "source": [
    "### Lưu model"
   ]
  },
  {
   "cell_type": "code",
   "execution_count": 48,
   "id": "cc7ee6c4-0978-4027-835d-2316814f8885",
   "metadata": {},
   "outputs": [
    {
     "data": {
      "text/plain": [
       "['lg_re']"
      ]
     },
     "execution_count": 48,
     "metadata": {},
     "output_type": "execute_result"
    }
   ],
   "source": [
    "dump(lg_re, \"lg_re\")"
   ]
  },
  {
   "cell_type": "markdown",
   "id": "593ac9fa",
   "metadata": {},
   "source": [
    "## Mô hình phi tuyến"
   ]
  },
  {
   "cell_type": "markdown",
   "id": "fab90226",
   "metadata": {},
   "source": [
    "Với mô hìn này, em sử dụng bộ phân lớp `DecisionTreeClassifier`"
   ]
  },
  {
   "cell_type": "markdown",
   "id": "3c4596cd",
   "metadata": {},
   "source": [
    "### Tìm mô hình tốt nhất"
   ]
  },
  {
   "cell_type": "code",
   "execution_count": 31,
   "id": "1bb66a1c",
   "metadata": {},
   "outputs": [],
   "source": [
    "train_accs = []\n",
    "val_accs = []\n",
    "max_features = ['auto', 'sqrt', 'log2', None]\n",
    "max_leaf_nodes = [30, 100, 300, 1000]\n",
    "best_val_acc = 0\n",
    "best_features = None\n",
    "best_leaf_nodes = None\n",
    "\n",
    "for max_feature in max_features:\n",
    "    for max_leaf_node in max_leaf_nodes:\n",
    "        tree = DecisionTreeClassifier(\n",
    "            random_state=42, max_features=max_feature, max_leaf_nodes=max_leaf_node).fit(x_train, y_train)\n",
    "        val_accs.append(accuracy_score(tree.predict(x_val), y_val))\n",
    "        train_accs.append(accuracy_score(tree.predict(x_train), y_train))\n",
    "\n",
    "best_val_acc = max(val_accs)\n",
    "index_best = val_accs.index(best_val_acc)\n",
    "best_features = max_features[index_best // len(max_leaf_nodes)]\n",
    "best_leaf_nodes = max_leaf_nodes[index_best % len(max_leaf_nodes)]"
   ]
  },
  {
   "cell_type": "code",
   "execution_count": 32,
   "id": "ac7fb30a",
   "metadata": {},
   "outputs": [
    {
     "data": {
      "text/plain": [
       "DecisionTreeClassifier(max_leaf_nodes=30, random_state=42)"
      ]
     },
     "execution_count": 32,
     "metadata": {},
     "output_type": "execute_result"
    }
   ],
   "source": [
    "tree.set_params(random_state=42, max_features=best_features,\n",
    "                max_leaf_nodes=best_leaf_nodes).fit(x_train, y_train)"
   ]
  },
  {
   "cell_type": "code",
   "execution_count": 33,
   "id": "9f18926a",
   "metadata": {},
   "outputs": [
    {
     "name": "stdout",
     "output_type": "stream",
     "text": [
      "Vậy các tham số tốt nhất với mô hình này tìm được là random_state=42, max_features=None, max_leaf_nodes=30\n"
     ]
    }
   ],
   "source": [
    "print(\n",
    "    f\"Vậy các tham số tốt nhất với mô hình này tìm được là random_state=42, max_features={best_features}, max_leaf_nodes={best_leaf_nodes}\")"
   ]
  },
  {
   "cell_type": "code",
   "execution_count": 34,
   "id": "bbe8c53f",
   "metadata": {},
   "outputs": [
    {
     "data": {
      "text/plain": [
       "0.9130434782608695"
      ]
     },
     "execution_count": 34,
     "metadata": {},
     "output_type": "execute_result"
    }
   ],
   "source": [
    "accuracy_score(y_test, tree.predict(x_test))"
   ]
  },
  {
   "cell_type": "markdown",
   "id": "f2e18b8b",
   "metadata": {},
   "source": [
    "### Trực quan hóa kết quả"
   ]
  },
  {
   "cell_type": "code",
   "execution_count": 35,
   "id": "4ee28bc7",
   "metadata": {},
   "outputs": [
    {
     "data": {
      "text/plain": [
       "Text(373.36363636363626, 0.5, 'max_features')"
      ]
     },
     "execution_count": 35,
     "metadata": {},
     "output_type": "execute_result"
    },
    {
     "data": {
      "image/png": "[encoded data removed]",
      "text/plain": [
       "<Figure size 720x360 with 2 Axes>"
      ]
     },
     "metadata": {
      "needs_background": "light"
     },
     "output_type": "display_data"
    }
   ],
   "source": [
    "# Trực quan hóa kết quả\n",
    "train_accs_df = pd.DataFrame(data=np.array(train_accs).reshape(len(max_features), -1),\n",
    "                             index=max_features, columns=max_leaf_nodes)\n",
    "val_accs_df = pd.DataFrame(\n",
    "    data=np.array(val_accs).reshape(len(max_features), -1),\n",
    "    index=max_features, columns=max_leaf_nodes)\n",
    "min_err = min(min(train_accs), min(val_accs))\n",
    "max_err = max(max(train_accs), max(val_accs))\n",
    "plt.figure(figsize=(10, 5))\n",
    "plt.subplot(1, 2, 1)\n",
    "sns.heatmap(train_accs_df, vmin=min_err, vmax=max_err, square=True,\n",
    "            annot=True, cbar=False, fmt='.2f', cmap='Reds')\n",
    "plt.title('train accuracies')\n",
    "plt.xlabel('max_leaf_nodes')\n",
    "plt.ylabel('max_features')\n",
    "plt.subplot(1, 2, 2)\n",
    "sns.heatmap(val_accs_df, vmin=min_err, vmax=max_err, square=True,\n",
    "            annot=True, cbar=False, fmt='.2f', cmap='Reds')\n",
    "plt.title('validation accuracies')\n",
    "plt.xlabel('max_leaf_nodes')\n",
    "plt.ylabel('max_features')"
   ]
  },
  {
   "cell_type": "markdown",
   "id": "eef8958b",
   "metadata": {},
   "source": [
    "**Nhận xét:** TỈ lệ trên tập `train` khác biệt hoàn toàn đối với tập `valid`. \n",
    "- Theo kinh nghiệm của em, phân lớp bằng cây rất dễ bị hiện tượng `overfitting`, dễ thấy, tỉ lệ ở tập `train` đều đạt điểm tuyệt đối. \n",
    "- Đối với tỉ lệ tập `valid`, việc số `features` càng giảm thì có vẻ tỉ lệ khớp càng nhỏ đi. Với trường hợp `max_feautures == None`, ta thấy có giá trị khác rõ với các tham số còn lại. Có vẻ đây là dấu hiệu của việc khớp khá khít. "
   ]
  },
  {
   "cell_type": "markdown",
   "id": "ee158872-31a3-44e8-ae46-d2d390fad462",
   "metadata": {},
   "source": [
    "### Lưu model"
   ]
  },
  {
   "cell_type": "code",
   "execution_count": 47,
   "id": "3ef13b4c-85a1-4a79-bdfe-dd81e6c45b93",
   "metadata": {},
   "outputs": [
    {
     "data": {
      "text/plain": [
       "['tree']"
      ]
     },
     "execution_count": 47,
     "metadata": {},
     "output_type": "execute_result"
    }
   ],
   "source": [
    "dump(tree, \"tree\")"
   ]
  },
  {
   "cell_type": "markdown",
   "id": "58835425",
   "metadata": {},
   "source": [
    "## Deep learning"
   ]
  },
  {
   "cell_type": "markdown",
   "id": "2e47822f",
   "metadata": {},
   "source": [
    "Với mô hình này, em sử dụng bộ phân lớp `MLPClassifer`"
   ]
  },
  {
   "cell_type": "markdown",
   "id": "62374878",
   "metadata": {},
   "source": [
    "### Tìm mô hình tốt nhất"
   ]
  },
  {
   "cell_type": "code",
   "execution_count": 36,
   "id": "6ab1c63a",
   "metadata": {},
   "outputs": [],
   "source": [
    "train_accs = []\n",
    "val_accs = []\n",
    "alphas = [0, 0.01, 0.1, 1, 10, 100]\n",
    "solvers = ['lbfgs', 'sgd', 'adam']\n",
    "best_val_acc = 0\n",
    "best_alpha = None\n",
    "best_solver = None\n",
    "\n",
    "for alpha in alphas:\n",
    "    for solver in solvers:\n",
    "        MLPC = MLPClassifier(hidden_layer_sizes=(50), alpha=alpha, solver=solver, max_iter=10000).fit(x_train, y_train)\n",
    "        val_accs.append(accuracy_score(MLPC.predict(x_val), y_val))\n",
    "        train_accs.append(accuracy_score(MLPC.predict(x_train), y_train))\n",
    "\n",
    "best_val_acc = max(val_accs)\n",
    "index_best = val_accs.index(best_val_acc)\n",
    "best_alpha = alphas[index_best // len(solvers)]\n",
    "best_solver = solvers[index_best % len(solvers)]"
   ]
  },
  {
   "cell_type": "code",
   "execution_count": 37,
   "id": "4d121303",
   "metadata": {},
   "outputs": [
    {
     "data": {
      "text/plain": [
       "MLPClassifier(alpha=0.1, hidden_layer_sizes=50, max_iter=10000, solver='lbfgs')"
      ]
     },
     "execution_count": 37,
     "metadata": {},
     "output_type": "execute_result"
    }
   ],
   "source": [
    "MLPC.set_params(hidden_layer_sizes=(50), alpha=best_alpha,\n",
    "                solver=best_solver, max_iter=10000).fit(x_train, y_train)"
   ]
  },
  {
   "cell_type": "code",
   "execution_count": 38,
   "id": "eace1346",
   "metadata": {},
   "outputs": [
    {
     "name": "stdout",
     "output_type": "stream",
     "text": [
      "Vậy các tham số tốt nhất với mô hình này tìm được là hidden_layer=(50), alpha=0.1, max_iter=10000, solver=lbfgs\n"
     ]
    }
   ],
   "source": [
    "print(\n",
    "    f\"Vậy các tham số tốt nhất với mô hình này tìm được là hidden_layer=(50), alpha={best_alpha}, max_iter=10000, solver={best_solver}\")"
   ]
  },
  {
   "cell_type": "code",
   "execution_count": 39,
   "id": "490882ae",
   "metadata": {},
   "outputs": [
    {
     "data": {
      "text/plain": [
       "0.9565217391304348"
      ]
     },
     "execution_count": 39,
     "metadata": {},
     "output_type": "execute_result"
    }
   ],
   "source": [
    "accuracy_score(y_test, MLPC.predict(x_test))"
   ]
  },
  {
   "cell_type": "markdown",
   "id": "c3b60c29",
   "metadata": {},
   "source": [
    "### Trực quan hóa kết quả"
   ]
  },
  {
   "cell_type": "code",
   "execution_count": 40,
   "id": "29bfd866",
   "metadata": {},
   "outputs": [
    {
     "data": {
      "text/plain": [
       "Text(432.23181818181814, 0.5, 'alphas')"
      ]
     },
     "execution_count": 40,
     "metadata": {},
     "output_type": "execute_result"
    },
    {
     "data": {
      "image/png": "[encoded data removed]",
      "text/plain": [
       "<Figure size 720x360 with 2 Axes>"
      ]
     },
     "metadata": {
      "needs_background": "light"
     },
     "output_type": "display_data"
    }
   ],
   "source": [
    "# Trực quan hóa kết quả\n",
    "train_accs_df = pd.DataFrame(data=np.array(train_accs).reshape(len(alphas), -1),\n",
    "                             index=alphas, columns=solvers)\n",
    "val_accs_df = pd.DataFrame(\n",
    "    data=np.array(val_accs).reshape(len(alphas), -1),\n",
    "    index=alphas, columns=solvers)\n",
    "min_err = min(min(train_accs), min(val_accs))\n",
    "max_err = max(max(train_accs), max(val_accs))\n",
    "plt.figure(figsize=(10, 5))\n",
    "plt.subplot(1, 2, 1)\n",
    "sns.heatmap(train_accs_df, vmin=min_err, vmax=max_err, square=True,\n",
    "            annot=True, cbar=False, fmt='.2f', cmap='Reds')\n",
    "plt.title('train accuracies')\n",
    "plt.xlabel('solvers')\n",
    "plt.ylabel('alphas')\n",
    "plt.subplot(1, 2, 2)\n",
    "sns.heatmap(val_accs_df, vmin=min_err, vmax=max_err, square=True,\n",
    "            annot=True, cbar=False, fmt='.2f', cmap='Reds')\n",
    "plt.title('validation accuracies')\n",
    "plt.xlabel('solvers')\n",
    "plt.ylabel('alphas')"
   ]
  },
  {
   "cell_type": "markdown",
   "id": "dc0e3782",
   "metadata": {},
   "source": [
    "**Nhận xét:** Ta thấy có sự tương đồng giữa tỉ lệ 2 tập `train` và `valid`. Với alpha lớn thì tỉ lệ khớp giảm rõ rệt. Bên cạnh đó, không hiểu sao solver 'sgd' tỉ lệ lại thấp hơn nhiều 2 solver còn lại"
   ]
  },
  {
   "cell_type": "markdown",
   "id": "c36d18ad-5a96-46dc-ab64-7ad4b87d67b8",
   "metadata": {},
   "source": [
    "### Lưu model"
   ]
  },
  {
   "cell_type": "code",
   "execution_count": 46,
   "id": "cce5a4df-f4a5-4ae3-a211-0e9d53a95e7d",
   "metadata": {},
   "outputs": [
    {
     "data": {
      "text/plain": [
       "['MLPC']"
      ]
     },
     "execution_count": 46,
     "metadata": {},
     "output_type": "execute_result"
    }
   ],
   "source": [
    "dump(MLPC, \"MLPC\")"
   ]
  },
  {
   "cell_type": "markdown",
   "id": "1c2964e3",
   "metadata": {},
   "source": [
    "---"
   ]
  },
  {
   "cell_type": "markdown",
   "id": "7d9aaadc",
   "metadata": {},
   "source": [
    "# Nguồn tham khảo"
   ]
  },
  {
   "cell_type": "markdown",
   "id": "567cad65",
   "metadata": {},
   "source": [
    " [1] [Nguồn tham khảo xử lí văn bản](https://maelfabien.github.io/machinelearning/NLP_1/#i-what-is-preprocessing)\n",
    " \n",
    " [2] [Nguồn tham khảo xây dựng mô hình FAKE NEW DETECTOR](https://www.kaggle.com/c/fakenewskdd2020)\n",
    " \n",
    " [3] [Ngồn tham khảo xây dựng mô hình học sâu]: lab3 môn NMKHDL\n",
    " \n",
    " [4] [Nguồn tham khảo phát triển app đơn giản bằng `streamlit`](https://www.youtube.com/watch?v=JwSS70SZdyM&t=1637s)"
   ]
  },
  {
   "cell_type": "markdown",
   "id": "423b279c",
   "metadata": {},
   "source": [
    "**NOTE**: Trong quá trình đọc, nếu cảm thấy sai sót gì. Em rất vui khi được góp ý của quý thầy cô, email: 19120724@student.hcmus.edu.vn "
   ]
  }
 ],
 "metadata": {
  "kernelspec": {
   "display_name": "Python 3 (ipykernel)",
   "language": "python",
   "name": "python3"
  },
  "language_info": {
   "codemirror_mode": {
    "name": "ipython",
    "version": 3
   },
   "file_extension": ".py",
   "mimetype": "text/x-python",
   "name": "python",
   "nbconvert_exporter": "python",
   "pygments_lexer": "ipython3",
   "version": "3.8.8"
  },
  "toc": {
   "base_numbering": 1,
   "nav_menu": {},
   "number_sections": true,
   "sideBar": true,
   "skip_h1_title": false,
   "title_cell": "Table of Contents",
   "title_sidebar": "Contents",
   "toc_cell": false,
   "toc_position": {},
   "toc_section_display": true,
   "toc_window_display": true
  },
  "toc-autonumbering": true
 },
 "nbformat": 4,
 "nbformat_minor": 5
}
